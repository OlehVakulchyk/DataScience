{
  "nbformat": 4,
  "nbformat_minor": 0,
  "metadata": {
    "colab": {
      "provenance": [],
      "mount_file_id": "1gBZN-86qJrQPePax0TwMRxh4PvXV-08r",
      "authorship_tag": "ABX9TyO/ZhtGDGbq52t4KgDLVK0I",
      "include_colab_link": true
    },
    "kernelspec": {
      "name": "python3",
      "display_name": "Python 3"
    },
    "language_info": {
      "name": "python"
    }
  },
  "cells": [
    {
      "cell_type": "markdown",
      "metadata": {
        "id": "view-in-github",
        "colab_type": "text"
      },
      "source": [
        "<a href=\"https://colab.research.google.com/github/OlehVakulchyk/DataScience/blob/main/Hw5.ipynb\" target=\"_parent\"><img src=\"https://colab.research.google.com/assets/colab-badge.svg\" alt=\"Open In Colab\"/></a>"
      ]
    },
    {
      "cell_type": "markdown",
      "source": [
        "****\n",
        "# HomeWork 5\n",
        "За даними акселерометра з мобільного телефону потрібно класифікувати, якою діяльністю займається людина: йде, стоїть, біжить чи йде по сходах. Використайте алгоритми SVM та випадковий ліс з бібліотеки scikit-learn. Як характеристики можете брати показники з акселерометра, проте щоб покращити результати роботи алгоритмів, спочатку можна підготувати наш датасет і розрахувати часові ознаки (time domain features). Порівняйте результати роботи обох алгоритмів на різних фічах та різні моделі між собою.\n",
        "\n",
        "Для використання алгоритму SVM та Random Forest створимо датасет з часовими ознаками файлів з датасету (min, max, mean, std)"
      ],
      "metadata": {
        "id": "Y64cgjEO4sHz"
      }
    },
    {
      "cell_type": "code",
      "execution_count": 42,
      "metadata": {
        "id": "4Aw3sPhcQM_Y"
      },
      "outputs": [],
      "source": [
        "import pandas as pd\n",
        "import numpy as np\n",
        "import zipfile\n",
        "import os\n",
        "\n",
        "from scipy.stats import entropy, skew\n",
        "from sklearn.ensemble import RandomForestClassifier\n",
        "from sklearn.svm import SVC\n",
        "from sklearn.model_selection import train_test_split, GridSearchCV, RandomizedSearchCV\n",
        "from sklearn.metrics import accuracy_score, f1_score\n"
      ]
    },
    {
      "cell_type": "code",
      "source": [
        "zip_files = '/content/drive/MyDrive/Colab Notebooks/homework.zip'\n",
        "\n",
        "with zipfile.ZipFile(zip_files, 'r') as zip_ref:\n",
        "    zip_ref.extractall('unzip_folder')\n"
      ],
      "metadata": {
        "id": "pKiU_iYw4e4h"
      },
      "execution_count": 43,
      "outputs": []
    },
    {
      "cell_type": "code",
      "source": [
        "def load_data_frame(folder_path):\n",
        "\n",
        "    data = pd.DataFrame()\n",
        "    type_activity = os.path.basename(folder_path)\n",
        "    for filename in os.listdir(folder_path):\n",
        "\n",
        "      if filename.endswith('.csv'):\n",
        "        df = pd.read_csv(os.path.join(folder_path, filename))\n",
        "        data_d = pd.DataFrame(\n",
        "        {\n",
        "        'max_x': df['accelerometer_X'].max(),\n",
        "        'min_x': df['accelerometer_X'].min(),\n",
        "        'mean_x': df['accelerometer_X'].mean(),\n",
        "        'std_x': df['accelerometer_X'].std(),\n",
        "\n",
        "        'max_y': df['accelerometer_Y'].max(),\n",
        "        'min_y': df['accelerometer_Y'].min(),\n",
        "        'mean_y': df['accelerometer_Y'].mean(),\n",
        "        'std_y': df['accelerometer_Y'].std(),\n",
        "\n",
        "        'max_z': df['accelerometer_Z'].max(),\n",
        "        'min_z': df['accelerometer_Z'].min(),\n",
        "        'mean_z': df['accelerometer_Z'].mean(),\n",
        "        'std_z': df['accelerometer_Z'].std(),\n",
        "        'type_activity': type_activity,\n",
        "        }, index=[0]\n",
        "        )\n",
        "        data = pd.concat([data, data_d]).reset_index(drop=True)\n",
        "\n",
        "    return data"
      ],
      "metadata": {
        "id": "TWBrAlNz4ky8"
      },
      "execution_count": 44,
      "outputs": []
    },
    {
      "cell_type": "code",
      "source": [
        "walk_path = 'unzip_folder/data/walking'\n",
        "stairs_path = 'unzip_folder/data/stairs'\n",
        "run_path = 'unzip_folder/data/running'\n",
        "idle_path = 'unzip_folder/data/idle'\n",
        "\n",
        "\n",
        "walk_df = load_data_frame(walk_path)\n",
        "stairs_df = load_data_frame(stairs_path)\n",
        "run_df = load_data_frame(run_path)\n",
        "idle_df = load_data_frame(idle_path)\n",
        "\n",
        "\n",
        "\n",
        "df = pd.concat([walk_df, stairs_df, run_df, idle_df]).reset_index(drop=True)\n",
        "\n",
        "\n",
        "df.head()\n"
      ],
      "metadata": {
        "id": "NpnpvPdI5hM_",
        "colab": {
          "base_uri": "https://localhost:8080/",
          "height": 206
        },
        "outputId": "c54ea529-fb3d-436b-8361-4a6bc2595060"
      },
      "execution_count": 45,
      "outputs": [
        {
          "output_type": "execute_result",
          "data": {
            "text/plain": [
              "       max_x      min_x    mean_x     std_x      max_y      min_y     mean_y  \\\n",
              "0  11.894394 -12.277467  0.237824  5.549729   6.435614 -23.673866 -11.556971   \n",
              "1   2.245761 -15.026010 -4.941313  4.601738   8.834604 -28.773516 -10.466013   \n",
              "2   0.464475 -25.665842 -7.151480  6.359630   0.349553 -22.855050 -11.929350   \n",
              "3   3.701436 -15.519216 -4.425442  4.181275  13.359646 -17.290924  -8.902759   \n",
              "4   5.990293  -7.958326 -0.627281  2.949334  -0.220267 -19.632454  -8.464620   \n",
              "\n",
              "      std_y      max_z      min_z    mean_z     std_z type_activity  \n",
              "0  6.137406   5.612009 -14.245501 -1.720952  4.821954       walking  \n",
              "1  7.700976  13.254301 -33.949780 -2.397553  9.136955       walking  \n",
              "2  5.509035  12.775460 -25.838224 -3.386199  7.963452       walking  \n",
              "3  6.898776  19.589357 -19.919758 -1.777615  7.726321       walking  \n",
              "4  5.216559   8.149863 -13.163321 -0.405737  4.968402       walking  "
            ],
            "text/html": [
              "\n",
              "  <div id=\"df-cc1099a9-a807-45a7-92c1-1fbb06ea2d99\" class=\"colab-df-container\">\n",
              "    <div>\n",
              "<style scoped>\n",
              "    .dataframe tbody tr th:only-of-type {\n",
              "        vertical-align: middle;\n",
              "    }\n",
              "\n",
              "    .dataframe tbody tr th {\n",
              "        vertical-align: top;\n",
              "    }\n",
              "\n",
              "    .dataframe thead th {\n",
              "        text-align: right;\n",
              "    }\n",
              "</style>\n",
              "<table border=\"1\" class=\"dataframe\">\n",
              "  <thead>\n",
              "    <tr style=\"text-align: right;\">\n",
              "      <th></th>\n",
              "      <th>max_x</th>\n",
              "      <th>min_x</th>\n",
              "      <th>mean_x</th>\n",
              "      <th>std_x</th>\n",
              "      <th>max_y</th>\n",
              "      <th>min_y</th>\n",
              "      <th>mean_y</th>\n",
              "      <th>std_y</th>\n",
              "      <th>max_z</th>\n",
              "      <th>min_z</th>\n",
              "      <th>mean_z</th>\n",
              "      <th>std_z</th>\n",
              "      <th>type_activity</th>\n",
              "    </tr>\n",
              "  </thead>\n",
              "  <tbody>\n",
              "    <tr>\n",
              "      <th>0</th>\n",
              "      <td>11.894394</td>\n",
              "      <td>-12.277467</td>\n",
              "      <td>0.237824</td>\n",
              "      <td>5.549729</td>\n",
              "      <td>6.435614</td>\n",
              "      <td>-23.673866</td>\n",
              "      <td>-11.556971</td>\n",
              "      <td>6.137406</td>\n",
              "      <td>5.612009</td>\n",
              "      <td>-14.245501</td>\n",
              "      <td>-1.720952</td>\n",
              "      <td>4.821954</td>\n",
              "      <td>walking</td>\n",
              "    </tr>\n",
              "    <tr>\n",
              "      <th>1</th>\n",
              "      <td>2.245761</td>\n",
              "      <td>-15.026010</td>\n",
              "      <td>-4.941313</td>\n",
              "      <td>4.601738</td>\n",
              "      <td>8.834604</td>\n",
              "      <td>-28.773516</td>\n",
              "      <td>-10.466013</td>\n",
              "      <td>7.700976</td>\n",
              "      <td>13.254301</td>\n",
              "      <td>-33.949780</td>\n",
              "      <td>-2.397553</td>\n",
              "      <td>9.136955</td>\n",
              "      <td>walking</td>\n",
              "    </tr>\n",
              "    <tr>\n",
              "      <th>2</th>\n",
              "      <td>0.464475</td>\n",
              "      <td>-25.665842</td>\n",
              "      <td>-7.151480</td>\n",
              "      <td>6.359630</td>\n",
              "      <td>0.349553</td>\n",
              "      <td>-22.855050</td>\n",
              "      <td>-11.929350</td>\n",
              "      <td>5.509035</td>\n",
              "      <td>12.775460</td>\n",
              "      <td>-25.838224</td>\n",
              "      <td>-3.386199</td>\n",
              "      <td>7.963452</td>\n",
              "      <td>walking</td>\n",
              "    </tr>\n",
              "    <tr>\n",
              "      <th>3</th>\n",
              "      <td>3.701436</td>\n",
              "      <td>-15.519216</td>\n",
              "      <td>-4.425442</td>\n",
              "      <td>4.181275</td>\n",
              "      <td>13.359646</td>\n",
              "      <td>-17.290924</td>\n",
              "      <td>-8.902759</td>\n",
              "      <td>6.898776</td>\n",
              "      <td>19.589357</td>\n",
              "      <td>-19.919758</td>\n",
              "      <td>-1.777615</td>\n",
              "      <td>7.726321</td>\n",
              "      <td>walking</td>\n",
              "    </tr>\n",
              "    <tr>\n",
              "      <th>4</th>\n",
              "      <td>5.990293</td>\n",
              "      <td>-7.958326</td>\n",
              "      <td>-0.627281</td>\n",
              "      <td>2.949334</td>\n",
              "      <td>-0.220267</td>\n",
              "      <td>-19.632454</td>\n",
              "      <td>-8.464620</td>\n",
              "      <td>5.216559</td>\n",
              "      <td>8.149863</td>\n",
              "      <td>-13.163321</td>\n",
              "      <td>-0.405737</td>\n",
              "      <td>4.968402</td>\n",
              "      <td>walking</td>\n",
              "    </tr>\n",
              "  </tbody>\n",
              "</table>\n",
              "</div>\n",
              "    <div class=\"colab-df-buttons\">\n",
              "\n",
              "  <div class=\"colab-df-container\">\n",
              "    <button class=\"colab-df-convert\" onclick=\"convertToInteractive('df-cc1099a9-a807-45a7-92c1-1fbb06ea2d99')\"\n",
              "            title=\"Convert this dataframe to an interactive table.\"\n",
              "            style=\"display:none;\">\n",
              "\n",
              "  <svg xmlns=\"http://www.w3.org/2000/svg\" height=\"24px\" viewBox=\"0 -960 960 960\">\n",
              "    <path d=\"M120-120v-720h720v720H120Zm60-500h600v-160H180v160Zm220 220h160v-160H400v160Zm0 220h160v-160H400v160ZM180-400h160v-160H180v160Zm440 0h160v-160H620v160ZM180-180h160v-160H180v160Zm440 0h160v-160H620v160Z\"/>\n",
              "  </svg>\n",
              "    </button>\n",
              "\n",
              "  <style>\n",
              "    .colab-df-container {\n",
              "      display:flex;\n",
              "      gap: 12px;\n",
              "    }\n",
              "\n",
              "    .colab-df-convert {\n",
              "      background-color: #E8F0FE;\n",
              "      border: none;\n",
              "      border-radius: 50%;\n",
              "      cursor: pointer;\n",
              "      display: none;\n",
              "      fill: #1967D2;\n",
              "      height: 32px;\n",
              "      padding: 0 0 0 0;\n",
              "      width: 32px;\n",
              "    }\n",
              "\n",
              "    .colab-df-convert:hover {\n",
              "      background-color: #E2EBFA;\n",
              "      box-shadow: 0px 1px 2px rgba(60, 64, 67, 0.3), 0px 1px 3px 1px rgba(60, 64, 67, 0.15);\n",
              "      fill: #174EA6;\n",
              "    }\n",
              "\n",
              "    .colab-df-buttons div {\n",
              "      margin-bottom: 4px;\n",
              "    }\n",
              "\n",
              "    [theme=dark] .colab-df-convert {\n",
              "      background-color: #3B4455;\n",
              "      fill: #D2E3FC;\n",
              "    }\n",
              "\n",
              "    [theme=dark] .colab-df-convert:hover {\n",
              "      background-color: #434B5C;\n",
              "      box-shadow: 0px 1px 3px 1px rgba(0, 0, 0, 0.15);\n",
              "      filter: drop-shadow(0px 1px 2px rgba(0, 0, 0, 0.3));\n",
              "      fill: #FFFFFF;\n",
              "    }\n",
              "  </style>\n",
              "\n",
              "    <script>\n",
              "      const buttonEl =\n",
              "        document.querySelector('#df-cc1099a9-a807-45a7-92c1-1fbb06ea2d99 button.colab-df-convert');\n",
              "      buttonEl.style.display =\n",
              "        google.colab.kernel.accessAllowed ? 'block' : 'none';\n",
              "\n",
              "      async function convertToInteractive(key) {\n",
              "        const element = document.querySelector('#df-cc1099a9-a807-45a7-92c1-1fbb06ea2d99');\n",
              "        const dataTable =\n",
              "          await google.colab.kernel.invokeFunction('convertToInteractive',\n",
              "                                                    [key], {});\n",
              "        if (!dataTable) return;\n",
              "\n",
              "        const docLinkHtml = 'Like what you see? Visit the ' +\n",
              "          '<a target=\"_blank\" href=https://colab.research.google.com/notebooks/data_table.ipynb>data table notebook</a>'\n",
              "          + ' to learn more about interactive tables.';\n",
              "        element.innerHTML = '';\n",
              "        dataTable['output_type'] = 'display_data';\n",
              "        await google.colab.output.renderOutput(dataTable, element);\n",
              "        const docLink = document.createElement('div');\n",
              "        docLink.innerHTML = docLinkHtml;\n",
              "        element.appendChild(docLink);\n",
              "      }\n",
              "    </script>\n",
              "  </div>\n",
              "\n",
              "\n",
              "<div id=\"df-4bbb8501-cbcb-44eb-a063-2b62dba41a2f\">\n",
              "  <button class=\"colab-df-quickchart\" onclick=\"quickchart('df-4bbb8501-cbcb-44eb-a063-2b62dba41a2f')\"\n",
              "            title=\"Suggest charts.\"\n",
              "            style=\"display:none;\">\n",
              "\n",
              "<svg xmlns=\"http://www.w3.org/2000/svg\" height=\"24px\"viewBox=\"0 0 24 24\"\n",
              "     width=\"24px\">\n",
              "    <g>\n",
              "        <path d=\"M19 3H5c-1.1 0-2 .9-2 2v14c0 1.1.9 2 2 2h14c1.1 0 2-.9 2-2V5c0-1.1-.9-2-2-2zM9 17H7v-7h2v7zm4 0h-2V7h2v10zm4 0h-2v-4h2v4z\"/>\n",
              "    </g>\n",
              "</svg>\n",
              "  </button>\n",
              "\n",
              "<style>\n",
              "  .colab-df-quickchart {\n",
              "      --bg-color: #E8F0FE;\n",
              "      --fill-color: #1967D2;\n",
              "      --hover-bg-color: #E2EBFA;\n",
              "      --hover-fill-color: #174EA6;\n",
              "      --disabled-fill-color: #AAA;\n",
              "      --disabled-bg-color: #DDD;\n",
              "  }\n",
              "\n",
              "  [theme=dark] .colab-df-quickchart {\n",
              "      --bg-color: #3B4455;\n",
              "      --fill-color: #D2E3FC;\n",
              "      --hover-bg-color: #434B5C;\n",
              "      --hover-fill-color: #FFFFFF;\n",
              "      --disabled-bg-color: #3B4455;\n",
              "      --disabled-fill-color: #666;\n",
              "  }\n",
              "\n",
              "  .colab-df-quickchart {\n",
              "    background-color: var(--bg-color);\n",
              "    border: none;\n",
              "    border-radius: 50%;\n",
              "    cursor: pointer;\n",
              "    display: none;\n",
              "    fill: var(--fill-color);\n",
              "    height: 32px;\n",
              "    padding: 0;\n",
              "    width: 32px;\n",
              "  }\n",
              "\n",
              "  .colab-df-quickchart:hover {\n",
              "    background-color: var(--hover-bg-color);\n",
              "    box-shadow: 0 1px 2px rgba(60, 64, 67, 0.3), 0 1px 3px 1px rgba(60, 64, 67, 0.15);\n",
              "    fill: var(--button-hover-fill-color);\n",
              "  }\n",
              "\n",
              "  .colab-df-quickchart-complete:disabled,\n",
              "  .colab-df-quickchart-complete:disabled:hover {\n",
              "    background-color: var(--disabled-bg-color);\n",
              "    fill: var(--disabled-fill-color);\n",
              "    box-shadow: none;\n",
              "  }\n",
              "\n",
              "  .colab-df-spinner {\n",
              "    border: 2px solid var(--fill-color);\n",
              "    border-color: transparent;\n",
              "    border-bottom-color: var(--fill-color);\n",
              "    animation:\n",
              "      spin 1s steps(1) infinite;\n",
              "  }\n",
              "\n",
              "  @keyframes spin {\n",
              "    0% {\n",
              "      border-color: transparent;\n",
              "      border-bottom-color: var(--fill-color);\n",
              "      border-left-color: var(--fill-color);\n",
              "    }\n",
              "    20% {\n",
              "      border-color: transparent;\n",
              "      border-left-color: var(--fill-color);\n",
              "      border-top-color: var(--fill-color);\n",
              "    }\n",
              "    30% {\n",
              "      border-color: transparent;\n",
              "      border-left-color: var(--fill-color);\n",
              "      border-top-color: var(--fill-color);\n",
              "      border-right-color: var(--fill-color);\n",
              "    }\n",
              "    40% {\n",
              "      border-color: transparent;\n",
              "      border-right-color: var(--fill-color);\n",
              "      border-top-color: var(--fill-color);\n",
              "    }\n",
              "    60% {\n",
              "      border-color: transparent;\n",
              "      border-right-color: var(--fill-color);\n",
              "    }\n",
              "    80% {\n",
              "      border-color: transparent;\n",
              "      border-right-color: var(--fill-color);\n",
              "      border-bottom-color: var(--fill-color);\n",
              "    }\n",
              "    90% {\n",
              "      border-color: transparent;\n",
              "      border-bottom-color: var(--fill-color);\n",
              "    }\n",
              "  }\n",
              "</style>\n",
              "\n",
              "  <script>\n",
              "    async function quickchart(key) {\n",
              "      const quickchartButtonEl =\n",
              "        document.querySelector('#' + key + ' button');\n",
              "      quickchartButtonEl.disabled = true;  // To prevent multiple clicks.\n",
              "      quickchartButtonEl.classList.add('colab-df-spinner');\n",
              "      try {\n",
              "        const charts = await google.colab.kernel.invokeFunction(\n",
              "            'suggestCharts', [key], {});\n",
              "      } catch (error) {\n",
              "        console.error('Error during call to suggestCharts:', error);\n",
              "      }\n",
              "      quickchartButtonEl.classList.remove('colab-df-spinner');\n",
              "      quickchartButtonEl.classList.add('colab-df-quickchart-complete');\n",
              "    }\n",
              "    (() => {\n",
              "      let quickchartButtonEl =\n",
              "        document.querySelector('#df-4bbb8501-cbcb-44eb-a063-2b62dba41a2f button');\n",
              "      quickchartButtonEl.style.display =\n",
              "        google.colab.kernel.accessAllowed ? 'block' : 'none';\n",
              "    })();\n",
              "  </script>\n",
              "</div>\n",
              "    </div>\n",
              "  </div>\n"
            ]
          },
          "metadata": {},
          "execution_count": 45
        }
      ]
    },
    {
      "cell_type": "markdown",
      "source": [
        "Визначимо тестову вибірку та знайдемо найкращу модель SVM за допомогою GridSearchCV"
      ],
      "metadata": {
        "id": "cjbHq7TjAz-5"
      }
    },
    {
      "cell_type": "code",
      "source": [
        "X = df.drop('type_activity', axis=1)\n",
        "y = df['type_activity']\n",
        "\n",
        "X_train, X_test, y_train, y_test = train_test_split(X, y, test_size=0.2, random_state=42)\n",
        "\n",
        "# X_train, X_test, y_train, y_test = train_test_split(X, y, test_size=0.15, train_size=0.7, random_state=42)\n",
        "\n",
        "svm_classifier = SVC()\n",
        "svm_param_grid = {'C': [0.1, 1, 10, 100],\n",
        "                  'gamma': [1, 0.1, 0.01, 0.001],\n",
        "                  'kernel': ['linear', 'poly', 'rbf', 'sigmoid']\n",
        "}\n",
        "svm_grid_search = GridSearchCV(svm_classifier, svm_param_grid, cv=5, scoring='accuracy')\n",
        "svm_grid_search.fit(X_train, y_train)\n",
        "\n",
        "best_svm_params = svm_grid_search.best_params_\n",
        "best_svm_model = svm_grid_search.best_estimator_\n",
        "\n",
        "print(best_svm_params)\n",
        "print(best_svm_model)"
      ],
      "metadata": {
        "colab": {
          "base_uri": "https://localhost:8080/"
        },
        "id": "8Ofnbv9xA0dX",
        "outputId": "ca38cd74-667c-4bc9-d730-3884066d6d8b"
      },
      "execution_count": 46,
      "outputs": [
        {
          "output_type": "stream",
          "name": "stdout",
          "text": [
            "{'C': 10, 'gamma': 0.01, 'kernel': 'rbf'}\n",
            "SVC(C=10, gamma=0.01)\n"
          ]
        }
      ]
    },
    {
      "cell_type": "code",
      "source": [
        "print(best_svm_params)\n",
        "print(best_svm_model)"
      ],
      "metadata": {
        "colab": {
          "base_uri": "https://localhost:8080/"
        },
        "id": "G-d8ogg9CXxH",
        "outputId": "c9411d3b-e918-4d9a-d572-719e011b44ef"
      },
      "execution_count": 47,
      "outputs": [
        {
          "output_type": "stream",
          "name": "stdout",
          "text": [
            "{'C': 10, 'gamma': 0.01, 'kernel': 'rbf'}\n",
            "SVC(C=10, gamma=0.01)\n"
          ]
        }
      ]
    },
    {
      "cell_type": "markdown",
      "source": [
        "Знайдемо найкращу модель Random Forest за допомогою GridSearchCV"
      ],
      "metadata": {
        "id": "zBK2jI1WFE65"
      }
    },
    {
      "cell_type": "code",
      "source": [
        "rf_classifier = RandomForestClassifier()\n",
        "rf_param_grid = {'n_estimators': [50, 100, 200],\n",
        "                 'max_depth': [None, 10, 20, 30],\n",
        "                 'min_samples_split': [2, 5, 10]}\n",
        "\n",
        "rf_grid_search = GridSearchCV(rf_classifier, rf_param_grid, cv=5, scoring='accuracy')\n",
        "rf_grid_search.fit(X_train, y_train)\n",
        "\n",
        "best_rf_params = rf_grid_search.best_params_\n",
        "best_rf_model = rf_grid_search.best_estimator_\n",
        "\n",
        "\n",
        "print(best_rf_params)\n"
      ],
      "metadata": {
        "colab": {
          "base_uri": "https://localhost:8080/"
        },
        "id": "WOiGVnVsFGhK",
        "outputId": "db97e9f8-e3cf-457f-9928-6fb89a89ece8"
      },
      "execution_count": 48,
      "outputs": [
        {
          "output_type": "stream",
          "name": "stdout",
          "text": [
            "{'max_depth': 20, 'min_samples_split': 2, 'n_estimators': 200}\n"
          ]
        }
      ]
    },
    {
      "cell_type": "markdown",
      "source": [
        "Знайдемо показники точності та F1 для алгоритмів SVM та Random Forest"
      ],
      "metadata": {
        "id": "0r6n6BwDFkT6"
      }
    },
    {
      "cell_type": "code",
      "source": [
        "svm_preds = best_svm_model.predict(X_test)\n",
        "rf_preds = best_rf_model.predict(X_test)\n",
        "\n",
        "svm_accuracy = accuracy_score(y_test, svm_preds)\n",
        "rf_accuracy = accuracy_score(y_test, rf_preds)\n",
        "\n",
        "svm_f1 = f1_score(y_test, svm_preds, average='weighted')\n",
        "rf_f1 = f1_score(y_test, rf_preds, average='weighted')\n",
        "\n",
        "print(f'SVM accuracy: {svm_accuracy}')\n",
        "print(f'Random Forest accuracy: {rf_accuracy}')\n",
        "print(f'SVM F1: {svm_f1}')\n",
        "print(f'Random Forest F1: {rf_f1}')"
      ],
      "metadata": {
        "colab": {
          "base_uri": "https://localhost:8080/"
        },
        "id": "UjphKCPwFluA",
        "outputId": "3323efd5-fc7d-482f-dd63-a0da2968a560"
      },
      "execution_count": 49,
      "outputs": [
        {
          "output_type": "stream",
          "name": "stdout",
          "text": [
            "SVM accuracy: 0.9984532095901005\n",
            "Random Forest accuracy: 0.9992266047950503\n",
            "SVM F1: 0.99847270972561\n",
            "Random Forest F1: 0.9992214943486407\n"
          ]
        }
      ]
    },
    {
      "cell_type": "markdown",
      "source": [
        "**Висновок:** В цілому, обидві моделі досягли високої точності та F1-міри, що свідчить про їхню хорошу роботу у класифікації діяльностей на основі даних акселерометра. Але модель Random Forest має невелику перевагу над моделлю SVM у цьому конкретному наборі даних."
      ],
      "metadata": {
        "id": "aAGqjXohLfkh"
      }
    },
    {
      "cell_type": "code",
      "source": [
        "# Random Forest\n",
        "param_rf = {\n",
        "    'n_estimators': [50, 100, 200],\n",
        "    'max_depth': [None, 10, 20, 30],\n",
        "    'min_samples_split': [2, 5, 10]\n",
        "}\n",
        "\n",
        "random_rf = RandomizedSearchCV(RandomForestClassifier(), param_rf, n_iter=10, cv=5)\n",
        "random_rf.fit(X_train, y_train)\n",
        "\n",
        "print(\"Best parameters for Random Forest: \", random_rf.best_params_)\n",
        "\n"
      ],
      "metadata": {
        "colab": {
          "base_uri": "https://localhost:8080/"
        },
        "id": "0Ver1OLzHTU1",
        "outputId": "9710db69-aa86-45d7-f5ee-35d5641eee03"
      },
      "execution_count": 50,
      "outputs": [
        {
          "output_type": "stream",
          "name": "stdout",
          "text": [
            "Best parameters for Random Forest:  {'n_estimators': 200, 'min_samples_split': 2, 'max_depth': None}\n"
          ]
        }
      ]
    },
    {
      "cell_type": "code",
      "source": [
        "# SVM\n",
        "param_svm = {\n",
        "    'C': [0.1, 1, 10, 100],\n",
        "    'gamma': [1, 0.1, 0.01, 0.001],\n",
        "    'kernel': ['linear', 'poly', 'rbf', 'sigmoid']\n",
        "}\n",
        "\n",
        "random_svm = RandomizedSearchCV(SVC(), param_svm, n_iter=10, cv=5)\n",
        "random_svm.fit(X_train, y_train)\n",
        "\n",
        "print(\"Best parameters for SVM: \", random_svm.best_params_)"
      ],
      "metadata": {
        "colab": {
          "base_uri": "https://localhost:8080/"
        },
        "id": "8uVqoTlgKauw",
        "outputId": "81ed7841-4939-4ed9-f08c-71092abfc886"
      },
      "execution_count": 51,
      "outputs": [
        {
          "output_type": "stream",
          "name": "stdout",
          "text": [
            "Best parameters for SVM:  {'kernel': 'rbf', 'gamma': 0.01, 'C': 10}\n"
          ]
        }
      ]
    },
    {
      "cell_type": "markdown",
      "source": [
        "RandomizedSearchCV працює дуже схоже до GridSearchCV, але замість того, щоб пробувати всі можливі комбінації параметрів, він випадковим чином вибирає певну кількість комбінацій. Це може бути набагато швидше, особливо якщо у вас багато параметрів для налаштування. Але при декількох виконаннях з однаковими параметрами результати можуть не співпадати завдяки випадковості комбінацій.\n",
        "\n",
        "По часу виконання в мене для SVM:\n",
        "\n",
        " RandomizedSearchCV - 30-50 cекунд\n",
        "\n",
        " GridSearchCV - 4 хвилини"
      ],
      "metadata": {
        "id": "yvcLMKKDLELr"
      }
    }
  ]
}