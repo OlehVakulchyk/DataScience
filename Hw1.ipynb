{
  "nbformat": 4,
  "nbformat_minor": 0,
  "metadata": {
    "colab": {
      "provenance": [],
      "authorship_tag": "ABX9TyM6SqBlgsTdxMmAIKRz/XQY",
      "include_colab_link": true
    },
    "kernelspec": {
      "name": "python3",
      "display_name": "Python 3"
    },
    "language_info": {
      "name": "python"
    }
  },
  "cells": [
    {
      "cell_type": "markdown",
      "metadata": {
        "id": "view-in-github",
        "colab_type": "text"
      },
      "source": [
        "<a href=\"https://colab.research.google.com/github/OlehVakulchyk/DataScience/blob/main/Hw1.ipynb\" target=\"_parent\"><img src=\"https://colab.research.google.com/assets/colab-badge.svg\" alt=\"Open In Colab\"/></a>"
      ]
    },
    {
      "cell_type": "markdown",
      "source": [
        "1. Створіть одновимірний масив (вектор) з першими 10-ма натуральними числами та виведіть його значення."
      ],
      "metadata": {
        "id": "LLtWl0A1PV_Y"
      }
    },
    {
      "cell_type": "code",
      "source": [
        "import numpy as np\n",
        "\n",
        "a = np.linspace(1, 10, num=10, dtype=int)\n",
        "print(a)"
      ],
      "metadata": {
        "colab": {
          "base_uri": "https://localhost:8080/"
        },
        "id": "ScVNDm94PmIp",
        "outputId": "1af0ffe1-9bdd-4736-de04-b1f94fdbac24"
      },
      "execution_count": 15,
      "outputs": [
        {
          "output_type": "stream",
          "name": "stdout",
          "text": [
            "[ 1  2  3  4  5  6  7  8  9 10]\n"
          ]
        }
      ]
    },
    {
      "cell_type": "markdown",
      "source": [
        "2. Створіть двовимірний масив (матрицю) розміром 3x3, заповніть його нулями та виведіть його значення."
      ],
      "metadata": {
        "id": "bdwr43MxQex6"
      }
    },
    {
      "cell_type": "code",
      "source": [
        "m = np.zeros((3, 3), dtype=int)\n",
        "print(m)"
      ],
      "metadata": {
        "colab": {
          "base_uri": "https://localhost:8080/"
        },
        "id": "-CfR5qOhQrzS",
        "outputId": "dfa51fdf-648c-41e4-fba0-b8c9617a5e73"
      },
      "execution_count": 16,
      "outputs": [
        {
          "output_type": "stream",
          "name": "stdout",
          "text": [
            "[[0 0 0]\n",
            " [0 0 0]\n",
            " [0 0 0]]\n"
          ]
        }
      ]
    },
    {
      "cell_type": "markdown",
      "source": [
        "3. Створіть масив розміром 5x5, заповніть його випадковими цілими числами в діапазоні від 1 до 10 та виведіть його значення."
      ],
      "metadata": {
        "id": "e8oNPl3yQ-VT"
      }
    },
    {
      "cell_type": "code",
      "source": [
        "import numpy as np\n",
        "\n",
        "a = np.random.randint(1, 10, (5, 5))\n",
        "print(a)"
      ],
      "metadata": {
        "colab": {
          "base_uri": "https://localhost:8080/"
        },
        "id": "b5OvBcDdRF8M",
        "outputId": "05ebe30e-749a-40a0-a7ff-d2b865e85438"
      },
      "execution_count": 27,
      "outputs": [
        {
          "output_type": "stream",
          "name": "stdout",
          "text": [
            "[[4 3 3 3 6]\n",
            " [8 6 4 1 3]\n",
            " [9 2 4 1 1]\n",
            " [1 3 6 8 7]\n",
            " [2 2 9 7 2]]\n"
          ]
        }
      ]
    },
    {
      "cell_type": "markdown",
      "source": [
        "4. Створіть масив розміром 4x4, заповніть його випадковими дійсними числами в діапазоні від 0 до 1 та виведіть його значення."
      ],
      "metadata": {
        "id": "dyWH9XBYVdvT"
      }
    },
    {
      "cell_type": "code",
      "source": [
        "import numpy as np\n",
        "\n",
        "a = np.random.random((4, 4))\n",
        "print(a)"
      ],
      "metadata": {
        "colab": {
          "base_uri": "https://localhost:8080/"
        },
        "id": "suualLYvVltS",
        "outputId": "1f5fdeb0-6ac1-4c7c-f7f3-fbbf635d4fc0"
      },
      "execution_count": 29,
      "outputs": [
        {
          "output_type": "stream",
          "name": "stdout",
          "text": [
            "[[0.013202   0.44164534 0.70072888 0.64212228]\n",
            " [0.91356747 0.57190757 0.93352604 0.66826208]\n",
            " [0.30125952 0.31961279 0.37730184 0.18743907]\n",
            " [0.79492176 0.01734765 0.56347791 0.00356229]]\n"
          ]
        }
      ]
    },
    {
      "cell_type": "markdown",
      "source": [
        "5. Створіть два одновимірних масиви розміром 5, заповніть їх випадковими цілими числами в діапазоні від 1 до 10 та виконайте на них поелементні операції додавання, віднімання та множення."
      ],
      "metadata": {
        "id": "Ni8mevkiV6xl"
      }
    },
    {
      "cell_type": "code",
      "source": [
        "import numpy as np\n",
        "\n",
        "a = np.random.randint(1, 10, 5)\n",
        "b = np.random.randint(1, 10, 5)\n",
        "print(a, b, sep='\\n')\n",
        "print(a + b)\n",
        "print(a - b)\n",
        "print(a * b)"
      ],
      "metadata": {
        "colab": {
          "base_uri": "https://localhost:8080/"
        },
        "id": "PgnOMHMAWFHR",
        "outputId": "a807e03e-e58a-47c7-d4f5-bc88681706a2"
      },
      "execution_count": 31,
      "outputs": [
        {
          "output_type": "stream",
          "name": "stdout",
          "text": [
            "[7 3 6 5 3]\n",
            "[9 5 1 4 6]\n",
            "[16  8  7  9  9]\n",
            "[-2 -2  5  1 -3]\n",
            "[63 15  6 20 18]\n"
          ]
        }
      ]
    },
    {
      "cell_type": "markdown",
      "source": [
        "6. Створіть два вектори розміром 7, заповніть довільними числами та знайдіть їх скалярний добуток."
      ],
      "metadata": {
        "id": "pQBAQdS8XBzl"
      }
    },
    {
      "cell_type": "code",
      "source": [
        "import numpy as np\n",
        "\n",
        "a = np.random.randint(1, 10, 5)\n",
        "b = np.random.randint(1, 10, 5)\n",
        "print(a, b, sep='\\n')\n",
        "print(np.dot(a, b))"
      ],
      "metadata": {
        "colab": {
          "base_uri": "https://localhost:8080/"
        },
        "id": "s_85palPXIC9",
        "outputId": "4e59cabf-8de1-4325-82c0-d78362e2f341"
      },
      "execution_count": 32,
      "outputs": [
        {
          "output_type": "stream",
          "name": "stdout",
          "text": [
            "[9 9 4 9 2]\n",
            "[8 2 4 8 5]\n",
            "188\n"
          ]
        }
      ]
    },
    {
      "cell_type": "markdown",
      "source": [
        "7. Створіть дві матриці розміром 2x2 та 2x3, заповніть їх випадковими цілими числами в діапазоні від 1 до 10 та перемножте їх між собою."
      ],
      "metadata": {
        "id": "rQW_411JXo7-"
      }
    },
    {
      "cell_type": "code",
      "source": [
        "import numpy as np\n",
        "\n",
        "a = np.random.randint(1, 10, (2, 2))\n",
        "b = np.random.randint(1, 10, (2, 3))\n",
        "print(a, b, sep='\\n')\n",
        "print(np.dot(a, b))"
      ],
      "metadata": {
        "colab": {
          "base_uri": "https://localhost:8080/"
        },
        "id": "Tml98p4QYcDT",
        "outputId": "c0b207ba-d49a-45c5-ef2d-23d24ed1e5a2"
      },
      "execution_count": 34,
      "outputs": [
        {
          "output_type": "stream",
          "name": "stdout",
          "text": [
            "[[3 1]\n",
            " [9 7]]\n",
            "[[8 1 3]\n",
            " [3 6 1]]\n",
            "[[27  9 10]\n",
            " [93 51 34]]\n"
          ]
        }
      ]
    },
    {
      "cell_type": "markdown",
      "source": [
        "8. Створіть матрицю розміром 3x3, заповніть її випадковими цілими числами в діапазоні від 1 до 10 та знайдіть її обернену матрицю."
      ],
      "metadata": {
        "id": "LmryFdGMZuxR"
      }
    },
    {
      "cell_type": "code",
      "source": [
        "import numpy as np\n",
        "\n",
        "a = np.random.randint(1, 10, (3, 3))\n",
        "print(a)\n",
        "print(np.linalg.inv(a))\n",
        "print(np.dot(a, np.linalg.inv(a)))"
      ],
      "metadata": {
        "colab": {
          "base_uri": "https://localhost:8080/"
        },
        "id": "VlJ_QaeiZ3OZ",
        "outputId": "eaf55140-3ac6-467f-b603-013c6882b9e4"
      },
      "execution_count": 36,
      "outputs": [
        {
          "output_type": "stream",
          "name": "stdout",
          "text": [
            "[[3 6 1]\n",
            " [6 6 8]\n",
            " [6 8 9]]\n",
            "[[ 0.18518519  0.85185185 -0.77777778]\n",
            " [ 0.11111111 -0.38888889  0.33333333]\n",
            " [-0.22222222 -0.22222222  0.33333333]]\n",
            "[[ 1.00000000e+00 -2.49800181e-16  1.66533454e-16]\n",
            " [ 0.00000000e+00  1.00000000e+00  4.44089210e-16]\n",
            " [ 1.11022302e-16 -5.82867088e-16  1.00000000e+00]]\n"
          ]
        }
      ]
    },
    {
      "cell_type": "markdown",
      "source": [
        "9. Створіть матрицю розміром 4x4, заповніть її випадковими дійсними числами в діапазоні від 0 до 1 та транспонуйте її."
      ],
      "metadata": {
        "id": "w6laC70PbY_y"
      }
    },
    {
      "cell_type": "code",
      "source": [
        "import numpy as np\n",
        "\n",
        "a = np.random.random((4, 4))\n",
        "print(a)\n",
        "print(a.T)"
      ],
      "metadata": {
        "colab": {
          "base_uri": "https://localhost:8080/"
        },
        "id": "Ug9ugh0Bbelo",
        "outputId": "9da7d111-1861-4f69-ffb3-8e253742ca06"
      },
      "execution_count": 37,
      "outputs": [
        {
          "output_type": "stream",
          "name": "stdout",
          "text": [
            "[[0.83563934 0.45296422 0.89127492 0.84045814]\n",
            " [0.55892447 0.6389013  0.00911419 0.67647488]\n",
            " [0.65731995 0.82088721 0.67335992 0.96324888]\n",
            " [0.06631963 0.96871568 0.32358012 0.11743305]]\n",
            "[[0.83563934 0.55892447 0.65731995 0.06631963]\n",
            " [0.45296422 0.6389013  0.82088721 0.96871568]\n",
            " [0.89127492 0.00911419 0.67335992 0.32358012]\n",
            " [0.84045814 0.67647488 0.96324888 0.11743305]]\n"
          ]
        }
      ]
    },
    {
      "cell_type": "markdown",
      "source": [
        "10. Створіть матрицю розміром 3x4 та вектор розміром 4, заповніть їх випадковими цілими числами в діапазоні від 1 до 10 та перемножте матрицю на вектор."
      ],
      "metadata": {
        "id": "WQ-N5zxabyMk"
      }
    },
    {
      "cell_type": "code",
      "source": [
        "import numpy as np\n",
        "\n",
        "a = np.random.randint(1, 10, (3, 4))\n",
        "b = np.random.randint(1, 10, 4)\n",
        "print(a, b, sep='\\n')\n",
        "print(np.dot(a, b))"
      ],
      "metadata": {
        "colab": {
          "base_uri": "https://localhost:8080/"
        },
        "id": "jW9Ghdteb5V-",
        "outputId": "8ca46ec7-21d7-42ef-ea64-08f04437288e"
      },
      "execution_count": 39,
      "outputs": [
        {
          "output_type": "stream",
          "name": "stdout",
          "text": [
            "[[4 7 7 1]\n",
            " [4 1 5 5]\n",
            " [9 6 5 2]]\n",
            "[5 8 1 8]\n",
            "[ 91  73 114]\n"
          ]
        }
      ]
    },
    {
      "cell_type": "markdown",
      "source": [
        "11. Створіть матрицю розміром 2x3 та вектор розміром 3, заповніть їх випадковими дійсними числами в діапазоні від 0 до 1 та перемножте матрицю на вектор."
      ],
      "metadata": {
        "id": "i9xinGU6c4-M"
      }
    },
    {
      "cell_type": "code",
      "source": [
        "import numpy as np\n",
        "\n",
        "a = np.random.random((2, 3))\n",
        "b = np.random.random(3)\n",
        "print(a, b, sep='\\n')\n",
        "print(np.dot(a, b))"
      ],
      "metadata": {
        "colab": {
          "base_uri": "https://localhost:8080/"
        },
        "id": "O7-1u1WGdABF",
        "outputId": "76ecdaa2-7964-4ca2-bd80-c53cd4c5399c"
      },
      "execution_count": 41,
      "outputs": [
        {
          "output_type": "stream",
          "name": "stdout",
          "text": [
            "[[0.20314678 0.93921513 0.38418054]\n",
            " [0.9227414  0.87240721 0.82884044]]\n",
            "[0.62026912 0.932425   0.56191242]\n",
            "[1.21762915 1.85153802]\n"
          ]
        }
      ]
    },
    {
      "cell_type": "markdown",
      "source": [
        "12. Створіть дві матриці розміром 2x2, заповніть їх випадковими цілими числами в діапазоні від 1 до 10 та виконайте їхнє поелементне множення."
      ],
      "metadata": {
        "id": "VAKzsay2duyg"
      }
    },
    {
      "cell_type": "code",
      "source": [
        "import numpy as np\n",
        "\n",
        "a = np.random.randint(1, 10, (2, 2))\n",
        "b = np.random.randint(1, 10, (2, 2))\n",
        "print(a, b, sep='\\n')\n",
        "print(a * b)"
      ],
      "metadata": {
        "colab": {
          "base_uri": "https://localhost:8080/"
        },
        "id": "-gYEj-XJdxMT",
        "outputId": "2185163e-96a5-4f25-95b4-0a2036091750"
      },
      "execution_count": 43,
      "outputs": [
        {
          "output_type": "stream",
          "name": "stdout",
          "text": [
            "[[9 5]\n",
            " [8 6]]\n",
            "[[6 5]\n",
            " [8 5]]\n",
            "[[54 25]\n",
            " [64 30]]\n"
          ]
        }
      ]
    },
    {
      "cell_type": "markdown",
      "source": [
        "13. Створіть дві матриці розміром 2x2, заповніть їх випадковими цілими числами в діапазоні від 1 до 10 та знайдіть їх добуток."
      ],
      "metadata": {
        "id": "0X85jr3eeGGa"
      }
    },
    {
      "cell_type": "code",
      "source": [
        "import numpy as np\n",
        "\n",
        "a = np.random.randint(1, 10, (2, 2))\n",
        "b = np.random.randint(1, 10, (2, 2))\n",
        "print(a, b, sep='\\n')\n",
        "print(np.dot(a, b))"
      ],
      "metadata": {
        "colab": {
          "base_uri": "https://localhost:8080/"
        },
        "id": "cajbsK5yeOj3",
        "outputId": "e5b4e8bb-a43f-4c0c-e9b0-1c7c267bb890"
      },
      "execution_count": 44,
      "outputs": [
        {
          "output_type": "stream",
          "name": "stdout",
          "text": [
            "[[9 6]\n",
            " [5 3]]\n",
            "[[4 6]\n",
            " [3 7]]\n",
            "[[54 96]\n",
            " [29 51]]\n"
          ]
        }
      ]
    },
    {
      "cell_type": "markdown",
      "source": [
        "14. Створіть матрицю розміром 5x5, заповніть її випадковими цілими числами в діапазоні від 1 до 100 та знайдіть суму елементів матриці."
      ],
      "metadata": {
        "id": "SfGB_Nabewot"
      }
    },
    {
      "cell_type": "code",
      "source": [
        "import numpy as np\n",
        "\n",
        "a = np.random.randint(1, 100, (5, 5))\n",
        "print(a)\n",
        "print(a.sum())"
      ],
      "metadata": {
        "colab": {
          "base_uri": "https://localhost:8080/"
        },
        "id": "SeVg8W1pe2JZ",
        "outputId": "00671d7a-6175-41c5-8eac-666c329046ef"
      },
      "execution_count": 45,
      "outputs": [
        {
          "output_type": "stream",
          "name": "stdout",
          "text": [
            "[[31 47 83  6 18]\n",
            " [23  4 54 79 32]\n",
            " [ 9 51 81 60 64]\n",
            " [12 19 57 92 43]\n",
            " [98 16 66 92  5]]\n",
            "1142\n"
          ]
        }
      ]
    },
    {
      "cell_type": "markdown",
      "source": [
        "15. Створіть дві матриці розміром 4x4, заповніть їх випадковими цілими числами в діапазоні від 1 до 10 та знайдіть їхню різницю."
      ],
      "metadata": {
        "id": "tM2zjQxifbCd"
      }
    },
    {
      "cell_type": "code",
      "source": [
        "import numpy as np\n",
        "\n",
        "a = np.random.randint(1, 10, (4, 4))\n",
        "b = np.random.randint(1, 10, (4, 4))\n",
        "print(a, b, sep='\\n')\n",
        "print(a - b)"
      ],
      "metadata": {
        "colab": {
          "base_uri": "https://localhost:8080/"
        },
        "id": "b94ilFgEfiB2",
        "outputId": "5c383688-4a0f-4d69-ae99-b8383dcd81a1"
      },
      "execution_count": 46,
      "outputs": [
        {
          "output_type": "stream",
          "name": "stdout",
          "text": [
            "[[1 8 6 2]\n",
            " [7 7 8 2]\n",
            " [5 2 9 6]\n",
            " [9 2 7 8]]\n",
            "[[9 7 1 2]\n",
            " [9 8 4 7]\n",
            " [3 6 6 4]\n",
            " [7 5 7 8]]\n",
            "[[-8  1  5  0]\n",
            " [-2 -1  4 -5]\n",
            " [ 2 -4  3  2]\n",
            " [ 2 -3  0  0]]\n"
          ]
        }
      ]
    },
    {
      "cell_type": "markdown",
      "source": [
        "16. Створіть матрицю розміром 3x3, заповніть її випадковими дійсними числами в діапазоні від 0 до 1 та знайдіть вектор-стовпчик, що містить суму елементів кожного рядка матриці."
      ],
      "metadata": {
        "id": "T2hKhPELf-Ic"
      }
    },
    {
      "cell_type": "code",
      "source": [
        "import numpy as np\n",
        "\n",
        "a = np.random.random((3, 3))\n",
        "b = np.ones((3,), dtype=int)\n",
        "print(a, b, sep='\\n')\n",
        "print(np.dot(a, b).T)"
      ],
      "metadata": {
        "colab": {
          "base_uri": "https://localhost:8080/"
        },
        "id": "4MjJODcCgEVy",
        "outputId": "7f581bbb-49dc-4cd7-bde7-70b47e88bdad"
      },
      "execution_count": 47,
      "outputs": [
        {
          "output_type": "stream",
          "name": "stdout",
          "text": [
            "[[0.37665698 0.50028253 0.85988817]\n",
            " [0.63867482 0.19992611 0.46861755]\n",
            " [0.59862685 0.39046315 0.66041759]]\n",
            "[1 1 1]\n",
            "[1.73682767 1.30721848 1.64950759]\n"
          ]
        }
      ]
    },
    {
      "cell_type": "markdown",
      "source": [
        "17. Створіть матрицю розміром 3x4 з довільними цілими числами і створінь матрицю з квадратами цих чисел."
      ],
      "metadata": {
        "id": "g9x5SpOOiw0X"
      }
    },
    {
      "cell_type": "code",
      "source": [
        "import numpy as np\n",
        "\n",
        "a = np.random.randint(1, 100, (3, 4))\n",
        "print(a)\n",
        "print(a * a)"
      ],
      "metadata": {
        "colab": {
          "base_uri": "https://localhost:8080/"
        },
        "id": "mzbDgQRdi3fH",
        "outputId": "df0d1106-fe57-47ae-d51c-9314905147d6"
      },
      "execution_count": 48,
      "outputs": [
        {
          "output_type": "stream",
          "name": "stdout",
          "text": [
            "[[10 65 67 19]\n",
            " [47 40 31  8]\n",
            " [31 11 16 52]]\n",
            "[[ 100 4225 4489  361]\n",
            " [2209 1600  961   64]\n",
            " [ 961  121  256 2704]]\n"
          ]
        }
      ]
    },
    {
      "cell_type": "markdown",
      "source": [
        "18. Створіть вектор розміром 4, заповніть його випадковими цілими числами в діапазоні від 1 до 50 та знайдіть вектор з квадратними коренями цих чисел."
      ],
      "metadata": {
        "id": "wuOuQAutjWGL"
      }
    },
    {
      "cell_type": "code",
      "source": [
        "import numpy as np\n",
        "\n",
        "a = np.random.randint(1, 50, 4)\n",
        "print(a)\n",
        "print(np.sqrt(a))"
      ],
      "metadata": {
        "colab": {
          "base_uri": "https://localhost:8080/"
        },
        "id": "U5YZ2Jr4jepW",
        "outputId": "c4d850a6-f65f-4775-e7ff-76819d84d696"
      },
      "execution_count": 50,
      "outputs": [
        {
          "output_type": "stream",
          "name": "stdout",
          "text": [
            "[13  5 43 46]\n",
            "[3.60555128 2.23606798 6.55743852 6.78232998]\n"
          ]
        }
      ]
    }
  ]
}