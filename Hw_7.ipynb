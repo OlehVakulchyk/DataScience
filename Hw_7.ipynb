{
  "nbformat": 4,
  "nbformat_minor": 0,
  "metadata": {
    "colab": {
      "provenance": [],
      "authorship_tag": "ABX9TyPs2ZvJwjiVB/XZTJbhROA/",
      "include_colab_link": true
    },
    "kernelspec": {
      "name": "python3",
      "display_name": "Python 3"
    },
    "language_info": {
      "name": "python"
    }
  },
  "cells": [
    {
      "cell_type": "markdown",
      "metadata": {
        "id": "view-in-github",
        "colab_type": "text"
      },
      "source": [
        "<a href=\"https://colab.research.google.com/github/OlehVakulchyk/DataScience/blob/main/Hw_7.ipynb\" target=\"_parent\"><img src=\"https://colab.research.google.com/assets/colab-badge.svg\" alt=\"Open In Colab\"/></a>"
      ]
    },
    {
      "cell_type": "markdown",
      "source": [
        "Візьміть датасет movielens і побудуйте модель матричної факторизації. У даній бібліотеці він має назву SVD. Підберіть найкращі параметри за допомогою крос-валідації, також поекспериментуйте з іншими алгоритмами розрахунків (SVD++, NMF) і оберіть той, який буде оптимальним."
      ],
      "metadata": {
        "id": "41zQsQpi3wpf"
      }
    },
    {
      "cell_type": "code",
      "execution_count": 1,
      "metadata": {
        "colab": {
          "base_uri": "https://localhost:8080/"
        },
        "id": "fgO1JuJI3ln8",
        "outputId": "af4dd813-b699-4b24-a30c-6e5610309642"
      },
      "outputs": [
        {
          "output_type": "stream",
          "name": "stdout",
          "text": [
            "Collecting surprise\n",
            "  Downloading surprise-0.1-py2.py3-none-any.whl (1.8 kB)\n",
            "Collecting scikit-surprise (from surprise)\n",
            "  Downloading scikit-surprise-1.1.3.tar.gz (771 kB)\n",
            "\u001b[2K     \u001b[90m━━━━━━━━━━━━━━━━━━━━━━━━━━━━━━━━━━━━━━━━\u001b[0m \u001b[32m772.0/772.0 kB\u001b[0m \u001b[31m9.0 MB/s\u001b[0m eta \u001b[36m0:00:00\u001b[0m\n",
            "\u001b[?25h  Preparing metadata (setup.py) ... \u001b[?25l\u001b[?25hdone\n",
            "Requirement already satisfied: joblib>=1.0.0 in /usr/local/lib/python3.10/dist-packages (from scikit-surprise->surprise) (1.3.2)\n",
            "Requirement already satisfied: numpy>=1.17.3 in /usr/local/lib/python3.10/dist-packages (from scikit-surprise->surprise) (1.23.5)\n",
            "Requirement already satisfied: scipy>=1.3.2 in /usr/local/lib/python3.10/dist-packages (from scikit-surprise->surprise) (1.11.3)\n",
            "Building wheels for collected packages: scikit-surprise\n",
            "  Building wheel for scikit-surprise (setup.py) ... \u001b[?25l\u001b[?25hdone\n",
            "  Created wheel for scikit-surprise: filename=scikit_surprise-1.1.3-cp310-cp310-linux_x86_64.whl size=3163348 sha256=0214b3f83e77c037f696b82d18c119e9167ee6f4fd37291d9c10651380f1deb6\n",
            "  Stored in directory: /root/.cache/pip/wheels/a5/ca/a8/4e28def53797fdc4363ca4af740db15a9c2f1595ebc51fb445\n",
            "Successfully built scikit-surprise\n",
            "Installing collected packages: scikit-surprise, surprise\n",
            "Successfully installed scikit-surprise-1.1.3 surprise-0.1\n"
          ]
        }
      ],
      "source": [
        "pip install surprise"
      ]
    },
    {
      "cell_type": "code",
      "source": [
        "import pandas as pd\n",
        "import numpy as np\n",
        "from surprise import Dataset, Reader\n",
        "from surprise import SVDpp, SVD, NMF, NormalPredictor, BaselineOnly, SlopeOne, KNNBasic, KNNWithMeans, KNNBaseline, CoClustering\n",
        "from surprise import SVDpp, SVD, NMF\n",
        "from surprise.model_selection import train_test_split, cross_validate, GridSearchCV\n",
        "from surprise import accuracy\n",
        "\n",
        "\n",
        "data = Dataset.load_builtin('ml-100k')\n",
        "data"
      ],
      "metadata": {
        "colab": {
          "base_uri": "https://localhost:8080/"
        },
        "id": "rgJJ0vGh4Quz",
        "outputId": "7d06c5e0-ac91-4857-bff0-6fa79da01f73"
      },
      "execution_count": 7,
      "outputs": [
        {
          "output_type": "execute_result",
          "data": {
            "text/plain": [
              "<surprise.dataset.DatasetAutoFolds at 0x7b1519079240>"
            ]
          },
          "metadata": {},
          "execution_count": 7
        }
      ]
    },
    {
      "cell_type": "code",
      "source": [
        "trainset, testset = train_test_split(data, test_size=0.2)\n",
        "print('Total ratings in dataset:', len(list(data.raw_ratings)))\n",
        "print('Len of trainset:', len(list(trainset.all_ratings())))\n",
        "print('Len of testset:', len(list(testset)))"
      ],
      "metadata": {
        "colab": {
          "base_uri": "https://localhost:8080/"
        },
        "id": "JOKBV7IDLHUi",
        "outputId": "e1c4c1ea-603d-49de-c2b6-69ce1918a3ab"
      },
      "execution_count": 3,
      "outputs": [
        {
          "output_type": "stream",
          "name": "stdout",
          "text": [
            "Total ratings in dataset: 100000\n",
            "Len of trainset: 80000\n",
            "Len of testset: 20000\n"
          ]
        }
      ]
    },
    {
      "cell_type": "markdown",
      "source": [
        "Алгоритм SVD"
      ],
      "metadata": {
        "id": "P8DUVu1gLaNk"
      }
    },
    {
      "cell_type": "code",
      "source": [
        "algo_svd = SVD(n_factors=200, n_epochs=5, random_state=0)\n",
        "cv_results = cross_validate(algo_svd, data, measures=[\"RMSE\", \"MAE\"], cv=3, verbose=True)\n",
        "svd_rmse_mean = cv_results['test_rmse'].mean()\n",
        "svd_mae_mean = cv_results['test_mae'].mean()\n",
        "print('RMSE mean:', svd_rmse_mean)\n",
        "print('MAE mean:', svd_mae_mean)"
      ],
      "metadata": {
        "colab": {
          "base_uri": "https://localhost:8080/"
        },
        "id": "6rcqLuTOLgI_",
        "outputId": "63b28cb8-035c-42af-d321-4edd63947e30"
      },
      "execution_count": 4,
      "outputs": [
        {
          "output_type": "stream",
          "name": "stdout",
          "text": [
            "Evaluating RMSE, MAE of algorithm SVD on 3 split(s).\n",
            "\n",
            "                  Fold 1  Fold 2  Fold 3  Mean    Std     \n",
            "RMSE (testset)    0.9683  0.9688  0.9709  0.9693  0.0011  \n",
            "MAE (testset)     0.7700  0.7682  0.7726  0.7702  0.0018  \n",
            "Fit time          0.46    0.64    0.73    0.61    0.11    \n",
            "Test time         0.35    0.36    0.49    0.40    0.07    \n",
            "RMSE mean: 0.9693293552318215\n",
            "MAE mean: 0.7702484255545352\n"
          ]
        }
      ]
    },
    {
      "cell_type": "markdown",
      "source": [
        "Алгоритм SVD++"
      ],
      "metadata": {
        "id": "gHdAcAXOLxYc"
      }
    },
    {
      "cell_type": "code",
      "source": [
        "algo_svd_pp = SVDpp(n_factors=200, n_epochs=5, random_state=0)\n",
        "cv_results = cross_validate(algo_svd_pp, data, measures=[\"RMSE\", \"MAE\"], cv=3, verbose=True)\n",
        "svd_pp_rmse_mean = cv_results['test_rmse'].mean()\n",
        "svd_pp_mae_mean = cv_results['test_mae'].mean()\n",
        "print('RMSE mean:', svd_pp_rmse_mean)\n",
        "print('MAE mean:', svd_pp_mae_mean)"
      ],
      "metadata": {
        "colab": {
          "base_uri": "https://localhost:8080/"
        },
        "id": "F3iuMtxDLyun",
        "outputId": "77b64a7e-67e2-4cd7-fd11-90d4eeff7041"
      },
      "execution_count": 5,
      "outputs": [
        {
          "output_type": "stream",
          "name": "stdout",
          "text": [
            "Evaluating RMSE, MAE of algorithm SVDpp on 3 split(s).\n",
            "\n",
            "                  Fold 1  Fold 2  Fold 3  Mean    Std     \n",
            "RMSE (testset)    0.9539  0.9456  0.9500  0.9498  0.0034  \n",
            "MAE (testset)     0.7533  0.7482  0.7524  0.7513  0.0022  \n",
            "Fit time          41.98   41.63   40.93   41.52   0.44    \n",
            "Test time         9.14    9.14    9.45    9.24    0.14    \n",
            "RMSE mean: 0.9498190302586703\n",
            "MAE mean: 0.7512924631980917\n"
          ]
        }
      ]
    },
    {
      "cell_type": "markdown",
      "source": [
        "Алгоритм NMF"
      ],
      "metadata": {
        "id": "bPaMWjZ_L3XT"
      }
    },
    {
      "cell_type": "code",
      "source": [
        "algo_nmf = NMF()\n",
        "cv_results = cross_validate(algo_nmf, data, measures=[\"RMSE\", \"MAE\"], cv=3, verbose=True)\n",
        "nmf_rmse_mean = cv_results['test_rmse'].mean()\n",
        "nmf_mae_mean = cv_results['test_mae'].mean()\n",
        "print('RMSE mean:', nmf_rmse_mean)\n",
        "print('MAE mean:', nmf_mae_mean)"
      ],
      "metadata": {
        "colab": {
          "base_uri": "https://localhost:8080/"
        },
        "id": "B_20ekDXL8ku",
        "outputId": "631ace93-da55-4467-901a-1839ec66b7d4"
      },
      "execution_count": 8,
      "outputs": [
        {
          "output_type": "stream",
          "name": "stdout",
          "text": [
            "Evaluating RMSE, MAE of algorithm NMF on 3 split(s).\n",
            "\n",
            "                  Fold 1  Fold 2  Fold 3  Mean    Std     \n",
            "RMSE (testset)    0.9758  0.9823  0.9735  0.9772  0.0037  \n",
            "MAE (testset)     0.7675  0.7718  0.7664  0.7686  0.0023  \n",
            "Fit time          1.84    1.85    2.25    1.98    0.19    \n",
            "Test time         0.31    0.48    0.17    0.32    0.13    \n",
            "RMSE mean: 0.9771990728220953\n",
            "MAE mean: 0.7685848656229927\n"
          ]
        }
      ]
    },
    {
      "cell_type": "markdown",
      "source": [
        "Алгоритм NormalPredictor"
      ],
      "metadata": {
        "id": "eb8fUqocMDZD"
      }
    },
    {
      "cell_type": "code",
      "source": [
        "algo_np = NormalPredictor()\n",
        "cv_results = cross_validate(algo_np, data, measures=[\"RMSE\", \"MAE\"], cv=3, verbose=True)\n",
        "np_rmse_mean = cv_results['test_rmse'].mean()\n",
        "np_mae_mean = cv_results['test_mae'].mean()\n",
        "print('RMSE mean:', np_rmse_mean)\n",
        "print('MAE mean:', np_mae_mean)"
      ],
      "metadata": {
        "colab": {
          "base_uri": "https://localhost:8080/"
        },
        "id": "7iNcw4YbMJ9I",
        "outputId": "5d067bed-e037-4e49-b529-deaaa662cc4c"
      },
      "execution_count": 9,
      "outputs": [
        {
          "output_type": "stream",
          "name": "stdout",
          "text": [
            "Evaluating RMSE, MAE of algorithm NormalPredictor on 3 split(s).\n",
            "\n",
            "                  Fold 1  Fold 2  Fold 3  Mean    Std     \n",
            "RMSE (testset)    1.5152  1.5127  1.5290  1.5189  0.0072  \n",
            "MAE (testset)     1.2169  1.2143  1.2264  1.2192  0.0052  \n",
            "Fit time          0.09    0.12    0.12    0.11    0.02    \n",
            "Test time         0.14    0.30    0.28    0.24    0.07    \n",
            "RMSE mean: 1.5189329996306515\n",
            "MAE mean: 1.219178417542148\n"
          ]
        }
      ]
    },
    {
      "cell_type": "markdown",
      "source": [
        "Алгоритм BaselineOnly"
      ],
      "metadata": {
        "id": "XDmckU0NM0Zb"
      }
    },
    {
      "cell_type": "code",
      "source": [
        "algo_bl = BaselineOnly()\n",
        "cv_results = cross_validate(algo_bl, data, measures=[\"RMSE\", \"MAE\"], cv=3, verbose=True)\n",
        "bl_rmse_mean = cv_results['test_rmse'].mean()\n",
        "bl_mae_mean = cv_results['test_mae'].mean()\n",
        "print('RMSE mean:', bl_rmse_mean)\n",
        "print('MAE mean:', bl_mae_mean)"
      ],
      "metadata": {
        "colab": {
          "base_uri": "https://localhost:8080/"
        },
        "id": "mLLriKaHMN99",
        "outputId": "a6c7b03a-101b-407b-d40c-be2c0813b29f"
      },
      "execution_count": 10,
      "outputs": [
        {
          "output_type": "stream",
          "name": "stdout",
          "text": [
            "Estimating biases using als...\n",
            "Estimating biases using als...\n",
            "Estimating biases using als...\n",
            "Evaluating RMSE, MAE of algorithm BaselineOnly on 3 split(s).\n",
            "\n",
            "                  Fold 1  Fold 2  Fold 3  Mean    Std     \n",
            "RMSE (testset)    0.9459  0.9454  0.9502  0.9472  0.0022  \n",
            "MAE (testset)     0.7502  0.7492  0.7540  0.7511  0.0021  \n",
            "Fit time          0.26    0.30    0.30    0.29    0.02    \n",
            "Test time         0.23    0.42    0.33    0.32    0.08    \n",
            "RMSE mean: 0.9471619701297277\n",
            "MAE mean: 0.7511385082854168\n"
          ]
        }
      ]
    },
    {
      "cell_type": "markdown",
      "source": [
        "Алгоритм SlopeOne"
      ],
      "metadata": {
        "id": "g8hdGVOoNEaC"
      }
    },
    {
      "cell_type": "code",
      "source": [
        "algo_so = SlopeOne()\n",
        "cv_results = cross_validate(algo_so, data, measures=[\"RMSE\", \"MAE\"], cv=3, verbose=True)\n",
        "so_rmse_mean = cv_results['test_rmse'].mean()\n",
        "so_mae_mean = cv_results['test_mae'].mean()\n",
        "print('RMSE mean:', so_rmse_mean)\n",
        "print('MAE mean:', so_mae_mean)"
      ],
      "metadata": {
        "colab": {
          "base_uri": "https://localhost:8080/"
        },
        "id": "Dc46d_GKNLYU",
        "outputId": "ecff100f-8ea1-47a6-ca9a-30fe09293dc3"
      },
      "execution_count": 11,
      "outputs": [
        {
          "output_type": "stream",
          "name": "stdout",
          "text": [
            "Evaluating RMSE, MAE of algorithm SlopeOne on 3 split(s).\n",
            "\n",
            "                  Fold 1  Fold 2  Fold 3  Mean    Std     \n",
            "RMSE (testset)    0.9508  0.9496  0.9488  0.9498  0.0008  \n",
            "MAE (testset)     0.7493  0.7452  0.7445  0.7463  0.0021  \n",
            "Fit time          0.83    0.66    0.62    0.70    0.09    \n",
            "Test time         3.97    3.53    4.93    4.14    0.58    \n",
            "RMSE mean: 0.9497681763347195\n",
            "MAE mean: 0.7463354012124982\n"
          ]
        }
      ]
    },
    {
      "cell_type": "markdown",
      "source": [
        "Алгоритм KNNBasic"
      ],
      "metadata": {
        "id": "GSFJxkahNRx_"
      }
    },
    {
      "cell_type": "code",
      "source": [
        "algo_knn_b = KNNBasic()\n",
        "cv_results = cross_validate(algo_knn_b, data, measures=[\"RMSE\", \"MAE\"], cv=3, verbose=True)\n",
        "knn_b_rmse_mean = cv_results['test_rmse'].mean()\n",
        "knn_b_mae_mean = cv_results['test_mae'].mean()\n",
        "print('RMSE mean:', knn_b_rmse_mean)\n",
        "print('MAE mean:', knn_b_mae_mean)"
      ],
      "metadata": {
        "colab": {
          "base_uri": "https://localhost:8080/"
        },
        "id": "K6T-IsgsNV8q",
        "outputId": "db984b15-9220-4c34-ec22-f1a25f41d468"
      },
      "execution_count": 12,
      "outputs": [
        {
          "output_type": "stream",
          "name": "stdout",
          "text": [
            "Computing the msd similarity matrix...\n",
            "Done computing similarity matrix.\n",
            "Computing the msd similarity matrix...\n",
            "Done computing similarity matrix.\n",
            "Computing the msd similarity matrix...\n",
            "Done computing similarity matrix.\n",
            "Evaluating RMSE, MAE of algorithm KNNBasic on 3 split(s).\n",
            "\n",
            "                  Fold 1  Fold 2  Fold 3  Mean    Std     \n",
            "RMSE (testset)    0.9879  0.9880  0.9896  0.9885  0.0008  \n",
            "MAE (testset)     0.7807  0.7791  0.7830  0.7809  0.0016  \n",
            "Fit time          0.29    0.49    0.31    0.37    0.09    \n",
            "Test time         4.67    5.75    4.61    5.01    0.52    \n",
            "RMSE mean: 0.9884873386224218\n",
            "MAE mean: 0.7809260736290969\n"
          ]
        }
      ]
    },
    {
      "cell_type": "markdown",
      "source": [
        "Алгоритм KNNWithMeans"
      ],
      "metadata": {
        "id": "R-TYWw-HNcye"
      }
    },
    {
      "cell_type": "code",
      "source": [
        "algo_knn_m = KNNWithMeans()\n",
        "cv_results = cross_validate(algo_knn_m, data, measures=[\"RMSE\", \"MAE\"], cv=3, verbose=True)\n",
        "knn_m_rmse_mean = cv_results['test_rmse'].mean()\n",
        "knn_m_mae_mean = cv_results['test_mae'].mean()\n",
        "print('RMSE mean:', knn_m_rmse_mean)\n",
        "print('MAE mean:', knn_m_mae_mean)"
      ],
      "metadata": {
        "colab": {
          "base_uri": "https://localhost:8080/"
        },
        "id": "GsyYJhszNi7N",
        "outputId": "5a22ab07-3046-49fc-a904-c4b9d02ad032"
      },
      "execution_count": 13,
      "outputs": [
        {
          "output_type": "stream",
          "name": "stdout",
          "text": [
            "Computing the msd similarity matrix...\n",
            "Done computing similarity matrix.\n",
            "Computing the msd similarity matrix...\n",
            "Done computing similarity matrix.\n",
            "Computing the msd similarity matrix...\n",
            "Done computing similarity matrix.\n",
            "Evaluating RMSE, MAE of algorithm KNNWithMeans on 3 split(s).\n",
            "\n",
            "                  Fold 1  Fold 2  Fold 3  Mean    Std     \n",
            "RMSE (testset)    0.9560  0.9500  0.9640  0.9567  0.0058  \n",
            "MAE (testset)     0.7541  0.7495  0.7577  0.7538  0.0033  \n",
            "Fit time          0.31    0.32    0.36    0.33    0.02    \n",
            "Test time         5.90    4.84    5.60    5.45    0.44    \n",
            "RMSE mean: 0.9566752350542099\n",
            "MAE mean: 0.7537544528917678\n"
          ]
        }
      ]
    },
    {
      "cell_type": "markdown",
      "source": [
        "Алгоритм KNNBaseline"
      ],
      "metadata": {
        "id": "YwD2Awq6NpN8"
      }
    },
    {
      "cell_type": "code",
      "source": [
        "algo_knn_bl = KNNBaseline()\n",
        "cv_results = cross_validate(algo_knn_bl, data, measures=[\"RMSE\", \"MAE\"], cv=3, verbose=True)\n",
        "knn_bl_rmse_mean = cv_results['test_rmse'].mean()\n",
        "knn_bl_mae_mean = cv_results['test_mae'].mean()\n",
        "print('RMSE mean:', knn_bl_rmse_mean)\n",
        "print('MAE mean:', knn_bl_mae_mean)"
      ],
      "metadata": {
        "colab": {
          "base_uri": "https://localhost:8080/"
        },
        "id": "jX3AR4UiNuXX",
        "outputId": "85e0dd33-e4a1-484d-8812-6f42547a60c9"
      },
      "execution_count": 14,
      "outputs": [
        {
          "output_type": "stream",
          "name": "stdout",
          "text": [
            "Estimating biases using als...\n",
            "Computing the msd similarity matrix...\n",
            "Done computing similarity matrix.\n",
            "Estimating biases using als...\n",
            "Computing the msd similarity matrix...\n",
            "Done computing similarity matrix.\n",
            "Estimating biases using als...\n",
            "Computing the msd similarity matrix...\n",
            "Done computing similarity matrix.\n",
            "Evaluating RMSE, MAE of algorithm KNNBaseline on 3 split(s).\n",
            "\n",
            "                  Fold 1  Fold 2  Fold 3  Mean    Std     \n",
            "RMSE (testset)    0.9412  0.9294  0.9391  0.9366  0.0051  \n",
            "MAE (testset)     0.7414  0.7338  0.7391  0.7381  0.0032  \n",
            "Fit time          0.58    0.63    0.59    0.60    0.02    \n",
            "Test time         5.76    6.48    5.42    5.89    0.44    \n",
            "RMSE mean: 0.9365908577281753\n",
            "MAE mean: 0.7380775582598873\n"
          ]
        }
      ]
    },
    {
      "cell_type": "markdown",
      "source": [
        "Алгоритм CoClustering"
      ],
      "metadata": {
        "id": "_Yx7s_9bN0CO"
      }
    },
    {
      "cell_type": "code",
      "source": [
        "algo_cc = CoClustering()\n",
        "cv_results = cross_validate(algo_cc, data, measures=[\"RMSE\", \"MAE\"], cv=3, verbose=True)\n",
        "cc_rmse_mean = cv_results['test_rmse'].mean()\n",
        "cc_mae_mean = cv_results['test_mae'].mean()\n",
        "print('RMSE mean:', cc_rmse_mean)\n",
        "print('MAE mean:', cc_mae_mean)"
      ],
      "metadata": {
        "colab": {
          "base_uri": "https://localhost:8080/"
        },
        "id": "CvItvLRlN5mL",
        "outputId": "c5159e84-9bf7-4eaa-b8d7-4af1095b2b49"
      },
      "execution_count": 15,
      "outputs": [
        {
          "output_type": "stream",
          "name": "stdout",
          "text": [
            "Evaluating RMSE, MAE of algorithm CoClustering on 3 split(s).\n",
            "\n",
            "                  Fold 1  Fold 2  Fold 3  Mean    Std     \n",
            "RMSE (testset)    0.9789  0.9758  0.9806  0.9785  0.0020  \n",
            "MAE (testset)     0.7664  0.7631  0.7702  0.7666  0.0029  \n",
            "Fit time          1.85    1.98    1.84    1.89    0.06    \n",
            "Test time         0.39    0.17    0.36    0.31    0.10    \n",
            "RMSE mean: 0.9784535464445794\n",
            "MAE mean: 0.7665924703232427\n"
          ]
        }
      ]
    },
    {
      "cell_type": "markdown",
      "source": [
        "Візуалізація результатів"
      ],
      "metadata": {
        "id": "2JzLe6H8ONEe"
      }
    },
    {
      "cell_type": "code",
      "source": [
        "algorythms_list = ['SVD', 'SVD++', 'NMF', 'NormalPredictor', 'BaselineOnly', 'SlopeOne', 'KNNBasic', 'KNNWithMeans', 'KNNBaseline', 'CoClustering']\n",
        "rmse_list = [svd_rmse_mean, svd_pp_rmse_mean, nmf_rmse_mean, np_rmse_mean, bl_rmse_mean, so_rmse_mean, knn_b_rmse_mean, knn_m_rmse_mean, knn_bl_rmse_mean, cc_rmse_mean]\n",
        "mae_list = [svd_mae_mean, svd_pp_mae_mean, nmf_mae_mean, np_mae_mean, bl_mae_mean, so_mae_mean, knn_b_mae_mean, knn_m_mae_mean, knn_bl_mae_mean, cc_mae_mean]\n",
        "results = pd.DataFrame({'Algorythms': algorythms_list, 'RMSE': rmse_list, 'MAE': mae_list})\n",
        "display(results)"
      ],
      "metadata": {
        "colab": {
          "base_uri": "https://localhost:8080/",
          "height": 363
        },
        "id": "j7o0UslqOY4t",
        "outputId": "a90e6478-5202-4105-a837-1554e093697b"
      },
      "execution_count": 16,
      "outputs": [
        {
          "output_type": "display_data",
          "data": {
            "text/plain": [
              "        Algorythms      RMSE       MAE\n",
              "0              SVD  0.969329  0.770248\n",
              "1            SVD++  0.949819  0.751292\n",
              "2              NMF  0.977199  0.768585\n",
              "3  NormalPredictor  1.518933  1.219178\n",
              "4     BaselineOnly  0.947162  0.751139\n",
              "5         SlopeOne  0.949768  0.746335\n",
              "6         KNNBasic  0.988487  0.780926\n",
              "7     KNNWithMeans  0.956675  0.753754\n",
              "8      KNNBaseline  0.936591  0.738078\n",
              "9     CoClustering  0.978454  0.766592"
            ],
            "text/html": [
              "\n",
              "  <div id=\"df-ebb06e73-1c2a-4e70-a427-816008ee9866\" class=\"colab-df-container\">\n",
              "    <div>\n",
              "<style scoped>\n",
              "    .dataframe tbody tr th:only-of-type {\n",
              "        vertical-align: middle;\n",
              "    }\n",
              "\n",
              "    .dataframe tbody tr th {\n",
              "        vertical-align: top;\n",
              "    }\n",
              "\n",
              "    .dataframe thead th {\n",
              "        text-align: right;\n",
              "    }\n",
              "</style>\n",
              "<table border=\"1\" class=\"dataframe\">\n",
              "  <thead>\n",
              "    <tr style=\"text-align: right;\">\n",
              "      <th></th>\n",
              "      <th>Algorythms</th>\n",
              "      <th>RMSE</th>\n",
              "      <th>MAE</th>\n",
              "    </tr>\n",
              "  </thead>\n",
              "  <tbody>\n",
              "    <tr>\n",
              "      <th>0</th>\n",
              "      <td>SVD</td>\n",
              "      <td>0.969329</td>\n",
              "      <td>0.770248</td>\n",
              "    </tr>\n",
              "    <tr>\n",
              "      <th>1</th>\n",
              "      <td>SVD++</td>\n",
              "      <td>0.949819</td>\n",
              "      <td>0.751292</td>\n",
              "    </tr>\n",
              "    <tr>\n",
              "      <th>2</th>\n",
              "      <td>NMF</td>\n",
              "      <td>0.977199</td>\n",
              "      <td>0.768585</td>\n",
              "    </tr>\n",
              "    <tr>\n",
              "      <th>3</th>\n",
              "      <td>NormalPredictor</td>\n",
              "      <td>1.518933</td>\n",
              "      <td>1.219178</td>\n",
              "    </tr>\n",
              "    <tr>\n",
              "      <th>4</th>\n",
              "      <td>BaselineOnly</td>\n",
              "      <td>0.947162</td>\n",
              "      <td>0.751139</td>\n",
              "    </tr>\n",
              "    <tr>\n",
              "      <th>5</th>\n",
              "      <td>SlopeOne</td>\n",
              "      <td>0.949768</td>\n",
              "      <td>0.746335</td>\n",
              "    </tr>\n",
              "    <tr>\n",
              "      <th>6</th>\n",
              "      <td>KNNBasic</td>\n",
              "      <td>0.988487</td>\n",
              "      <td>0.780926</td>\n",
              "    </tr>\n",
              "    <tr>\n",
              "      <th>7</th>\n",
              "      <td>KNNWithMeans</td>\n",
              "      <td>0.956675</td>\n",
              "      <td>0.753754</td>\n",
              "    </tr>\n",
              "    <tr>\n",
              "      <th>8</th>\n",
              "      <td>KNNBaseline</td>\n",
              "      <td>0.936591</td>\n",
              "      <td>0.738078</td>\n",
              "    </tr>\n",
              "    <tr>\n",
              "      <th>9</th>\n",
              "      <td>CoClustering</td>\n",
              "      <td>0.978454</td>\n",
              "      <td>0.766592</td>\n",
              "    </tr>\n",
              "  </tbody>\n",
              "</table>\n",
              "</div>\n",
              "    <div class=\"colab-df-buttons\">\n",
              "\n",
              "  <div class=\"colab-df-container\">\n",
              "    <button class=\"colab-df-convert\" onclick=\"convertToInteractive('df-ebb06e73-1c2a-4e70-a427-816008ee9866')\"\n",
              "            title=\"Convert this dataframe to an interactive table.\"\n",
              "            style=\"display:none;\">\n",
              "\n",
              "  <svg xmlns=\"http://www.w3.org/2000/svg\" height=\"24px\" viewBox=\"0 -960 960 960\">\n",
              "    <path d=\"M120-120v-720h720v720H120Zm60-500h600v-160H180v160Zm220 220h160v-160H400v160Zm0 220h160v-160H400v160ZM180-400h160v-160H180v160Zm440 0h160v-160H620v160ZM180-180h160v-160H180v160Zm440 0h160v-160H620v160Z\"/>\n",
              "  </svg>\n",
              "    </button>\n",
              "\n",
              "  <style>\n",
              "    .colab-df-container {\n",
              "      display:flex;\n",
              "      gap: 12px;\n",
              "    }\n",
              "\n",
              "    .colab-df-convert {\n",
              "      background-color: #E8F0FE;\n",
              "      border: none;\n",
              "      border-radius: 50%;\n",
              "      cursor: pointer;\n",
              "      display: none;\n",
              "      fill: #1967D2;\n",
              "      height: 32px;\n",
              "      padding: 0 0 0 0;\n",
              "      width: 32px;\n",
              "    }\n",
              "\n",
              "    .colab-df-convert:hover {\n",
              "      background-color: #E2EBFA;\n",
              "      box-shadow: 0px 1px 2px rgba(60, 64, 67, 0.3), 0px 1px 3px 1px rgba(60, 64, 67, 0.15);\n",
              "      fill: #174EA6;\n",
              "    }\n",
              "\n",
              "    .colab-df-buttons div {\n",
              "      margin-bottom: 4px;\n",
              "    }\n",
              "\n",
              "    [theme=dark] .colab-df-convert {\n",
              "      background-color: #3B4455;\n",
              "      fill: #D2E3FC;\n",
              "    }\n",
              "\n",
              "    [theme=dark] .colab-df-convert:hover {\n",
              "      background-color: #434B5C;\n",
              "      box-shadow: 0px 1px 3px 1px rgba(0, 0, 0, 0.15);\n",
              "      filter: drop-shadow(0px 1px 2px rgba(0, 0, 0, 0.3));\n",
              "      fill: #FFFFFF;\n",
              "    }\n",
              "  </style>\n",
              "\n",
              "    <script>\n",
              "      const buttonEl =\n",
              "        document.querySelector('#df-ebb06e73-1c2a-4e70-a427-816008ee9866 button.colab-df-convert');\n",
              "      buttonEl.style.display =\n",
              "        google.colab.kernel.accessAllowed ? 'block' : 'none';\n",
              "\n",
              "      async function convertToInteractive(key) {\n",
              "        const element = document.querySelector('#df-ebb06e73-1c2a-4e70-a427-816008ee9866');\n",
              "        const dataTable =\n",
              "          await google.colab.kernel.invokeFunction('convertToInteractive',\n",
              "                                                    [key], {});\n",
              "        if (!dataTable) return;\n",
              "\n",
              "        const docLinkHtml = 'Like what you see? Visit the ' +\n",
              "          '<a target=\"_blank\" href=https://colab.research.google.com/notebooks/data_table.ipynb>data table notebook</a>'\n",
              "          + ' to learn more about interactive tables.';\n",
              "        element.innerHTML = '';\n",
              "        dataTable['output_type'] = 'display_data';\n",
              "        await google.colab.output.renderOutput(dataTable, element);\n",
              "        const docLink = document.createElement('div');\n",
              "        docLink.innerHTML = docLinkHtml;\n",
              "        element.appendChild(docLink);\n",
              "      }\n",
              "    </script>\n",
              "  </div>\n",
              "\n",
              "\n",
              "<div id=\"df-8a72cdd8-7faf-4597-a78e-058ec2df051c\">\n",
              "  <button class=\"colab-df-quickchart\" onclick=\"quickchart('df-8a72cdd8-7faf-4597-a78e-058ec2df051c')\"\n",
              "            title=\"Suggest charts.\"\n",
              "            style=\"display:none;\">\n",
              "\n",
              "<svg xmlns=\"http://www.w3.org/2000/svg\" height=\"24px\"viewBox=\"0 0 24 24\"\n",
              "     width=\"24px\">\n",
              "    <g>\n",
              "        <path d=\"M19 3H5c-1.1 0-2 .9-2 2v14c0 1.1.9 2 2 2h14c1.1 0 2-.9 2-2V5c0-1.1-.9-2-2-2zM9 17H7v-7h2v7zm4 0h-2V7h2v10zm4 0h-2v-4h2v4z\"/>\n",
              "    </g>\n",
              "</svg>\n",
              "  </button>\n",
              "\n",
              "<style>\n",
              "  .colab-df-quickchart {\n",
              "      --bg-color: #E8F0FE;\n",
              "      --fill-color: #1967D2;\n",
              "      --hover-bg-color: #E2EBFA;\n",
              "      --hover-fill-color: #174EA6;\n",
              "      --disabled-fill-color: #AAA;\n",
              "      --disabled-bg-color: #DDD;\n",
              "  }\n",
              "\n",
              "  [theme=dark] .colab-df-quickchart {\n",
              "      --bg-color: #3B4455;\n",
              "      --fill-color: #D2E3FC;\n",
              "      --hover-bg-color: #434B5C;\n",
              "      --hover-fill-color: #FFFFFF;\n",
              "      --disabled-bg-color: #3B4455;\n",
              "      --disabled-fill-color: #666;\n",
              "  }\n",
              "\n",
              "  .colab-df-quickchart {\n",
              "    background-color: var(--bg-color);\n",
              "    border: none;\n",
              "    border-radius: 50%;\n",
              "    cursor: pointer;\n",
              "    display: none;\n",
              "    fill: var(--fill-color);\n",
              "    height: 32px;\n",
              "    padding: 0;\n",
              "    width: 32px;\n",
              "  }\n",
              "\n",
              "  .colab-df-quickchart:hover {\n",
              "    background-color: var(--hover-bg-color);\n",
              "    box-shadow: 0 1px 2px rgba(60, 64, 67, 0.3), 0 1px 3px 1px rgba(60, 64, 67, 0.15);\n",
              "    fill: var(--button-hover-fill-color);\n",
              "  }\n",
              "\n",
              "  .colab-df-quickchart-complete:disabled,\n",
              "  .colab-df-quickchart-complete:disabled:hover {\n",
              "    background-color: var(--disabled-bg-color);\n",
              "    fill: var(--disabled-fill-color);\n",
              "    box-shadow: none;\n",
              "  }\n",
              "\n",
              "  .colab-df-spinner {\n",
              "    border: 2px solid var(--fill-color);\n",
              "    border-color: transparent;\n",
              "    border-bottom-color: var(--fill-color);\n",
              "    animation:\n",
              "      spin 1s steps(1) infinite;\n",
              "  }\n",
              "\n",
              "  @keyframes spin {\n",
              "    0% {\n",
              "      border-color: transparent;\n",
              "      border-bottom-color: var(--fill-color);\n",
              "      border-left-color: var(--fill-color);\n",
              "    }\n",
              "    20% {\n",
              "      border-color: transparent;\n",
              "      border-left-color: var(--fill-color);\n",
              "      border-top-color: var(--fill-color);\n",
              "    }\n",
              "    30% {\n",
              "      border-color: transparent;\n",
              "      border-left-color: var(--fill-color);\n",
              "      border-top-color: var(--fill-color);\n",
              "      border-right-color: var(--fill-color);\n",
              "    }\n",
              "    40% {\n",
              "      border-color: transparent;\n",
              "      border-right-color: var(--fill-color);\n",
              "      border-top-color: var(--fill-color);\n",
              "    }\n",
              "    60% {\n",
              "      border-color: transparent;\n",
              "      border-right-color: var(--fill-color);\n",
              "    }\n",
              "    80% {\n",
              "      border-color: transparent;\n",
              "      border-right-color: var(--fill-color);\n",
              "      border-bottom-color: var(--fill-color);\n",
              "    }\n",
              "    90% {\n",
              "      border-color: transparent;\n",
              "      border-bottom-color: var(--fill-color);\n",
              "    }\n",
              "  }\n",
              "</style>\n",
              "\n",
              "  <script>\n",
              "    async function quickchart(key) {\n",
              "      const quickchartButtonEl =\n",
              "        document.querySelector('#' + key + ' button');\n",
              "      quickchartButtonEl.disabled = true;  // To prevent multiple clicks.\n",
              "      quickchartButtonEl.classList.add('colab-df-spinner');\n",
              "      try {\n",
              "        const charts = await google.colab.kernel.invokeFunction(\n",
              "            'suggestCharts', [key], {});\n",
              "      } catch (error) {\n",
              "        console.error('Error during call to suggestCharts:', error);\n",
              "      }\n",
              "      quickchartButtonEl.classList.remove('colab-df-spinner');\n",
              "      quickchartButtonEl.classList.add('colab-df-quickchart-complete');\n",
              "    }\n",
              "    (() => {\n",
              "      let quickchartButtonEl =\n",
              "        document.querySelector('#df-8a72cdd8-7faf-4597-a78e-058ec2df051c button');\n",
              "      quickchartButtonEl.style.display =\n",
              "        google.colab.kernel.accessAllowed ? 'block' : 'none';\n",
              "    })();\n",
              "  </script>\n",
              "</div>\n",
              "    </div>\n",
              "  </div>\n"
            ]
          },
          "metadata": {}
        }
      ]
    },
    {
      "cell_type": "code",
      "source": [
        "import matplotlib.pyplot as plt\n",
        "\n",
        "plt.bar(results.Algorythms, results.RMSE, color='blue')\n",
        "plt.xticks(rotation=90)\n",
        "for i, value in enumerate(results.RMSE):\n",
        "    plt.text(i, value, str(round(value, 3)), ha='center', va='bottom')\n",
        "plt.title('RMSE from all algorythms')\n",
        "plt.grid()\n",
        "plt.show()"
      ],
      "metadata": {
        "colab": {
          "base_uri": "https://localhost:8080/",
          "height": 551
        },
        "id": "0OJ4Zz30QC0Y",
        "outputId": "e8e9fec7-cd3e-4ff7-ba03-4099e5a9e246"
      },
      "execution_count": 18,
      "outputs": [
        {
          "output_type": "display_data",
          "data": {
            "text/plain": [
              "<Figure size 640x480 with 1 Axes>"
            ],
            "image/png": "[encoded data removed]"
          },
          "metadata": {}
        }
      ]
    },
    {
      "cell_type": "code",
      "source": [
        "plt.bar(results.Algorythms, results.MAE, color='red')\n",
        "plt.xticks(rotation=90)\n",
        "for i, value in enumerate(results.MAE):\n",
        "    plt.text(i, value, str(round(value, 3)), ha='center', va='bottom')\n",
        "plt.title('MAE from all algorythms')\n",
        "plt.grid()\n",
        "plt.show()"
      ],
      "metadata": {
        "colab": {
          "base_uri": "https://localhost:8080/",
          "height": 551
        },
        "id": "QCKFMN4HQ0DO",
        "outputId": "0a92b42d-600d-420c-8800-a781bfb1da4c"
      },
      "execution_count": 21,
      "outputs": [
        {
          "output_type": "display_data",
          "data": {
            "text/plain": [
              "<Figure size 640x480 with 1 Axes>"
            ],
            "image/png": "[encoded data removed]"
          },
          "metadata": {}
        }
      ]
    },
    {
      "cell_type": "markdown",
      "source": [
        "Резумуючи, можна сказати, що алгоритми KNNBasic та CoClustering відпрацювали найкраще для цього набору данних"
      ],
      "metadata": {
        "id": "8UPDwSWuRHGw"
      }
    }
  ]
}